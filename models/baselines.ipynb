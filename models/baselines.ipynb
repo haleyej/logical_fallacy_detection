{
 "cells": [
  {
   "cell_type": "code",
   "execution_count": 9,
   "id": "ed02f103",
   "metadata": {},
   "outputs": [],
   "source": [
    "import os\n",
    "import deeplake\n",
    "import pandas as pd\n",
    "import tensorflow\n",
    "\n",
    "from sklearn.dummy import DummyClassifier\n",
    "from sklearn.naive_bayes import GaussianNB\n",
    "from sklearn.preprocessing import OneHotEncoder"
   ]
  },
  {
   "cell_type": "code",
   "execution_count": 4,
   "id": "362c971b",
   "metadata": {},
   "outputs": [
    {
     "name": "stderr",
     "output_type": "stream",
     "text": [
      "/"
     ]
    },
    {
     "name": "stdout",
     "output_type": "stream",
     "text": [
      "Opening dataset in read-only mode as you don't have write permissions.\n"
     ]
    },
    {
     "name": "stderr",
     "output_type": "stream",
     "text": [
      "\\"
     ]
    },
    {
     "name": "stdout",
     "output_type": "stream",
     "text": [
      "This dataset can be visualized in Jupyter Notebook by ds.visualize() or at https://app.activeloop.ai/activeloop/liar-train\n",
      "\n"
     ]
    },
    {
     "name": "stderr",
     "output_type": "stream",
     "text": [
      "\\"
     ]
    },
    {
     "name": "stdout",
     "output_type": "stream",
     "text": [
      "hub://activeloop/liar-train loaded successfully.\n",
      "\n"
     ]
    },
    {
     "name": "stderr",
     "output_type": "stream",
     "text": [
      "\r",
      " \r",
      "\r",
      "\r",
      "|\r",
      "\r"
     ]
    }
   ],
   "source": [
    "ds = deeplake.load('hub://activeloop/liar-train')"
   ]
  },
  {
   "cell_type": "code",
   "execution_count": 10,
   "id": "586e5814",
   "metadata": {},
   "outputs": [],
   "source": [
    "dataloader = ds.pytorch(num_workers=0, batch_size=4, shuffle=False)"
   ]
  },
  {
   "cell_type": "code",
   "execution_count": 11,
   "id": "3a819ae3",
   "metadata": {},
   "outputs": [
    {
     "name": "stdout",
     "output_type": "stream",
     "text": [
      "IterableOrderedDict([('id', ['2635.json', '10540.json', '324.json', '1123.json']), ('label', tensor([[0],\n",
      "        [1],\n",
      "        [2],\n",
      "        [0]])), ('statement', ['Says the Annies List political group supports third-trimester abortions on demand.', 'When did the decline of coal start? It started when natural gas took off that started to begin in (President George W.) Bushs administration.', 'Hillary Clinton agrees with John McCain \"by voting to give George Bush the benefit of the doubt on Iran.\"', 'Health care reform legislation is likely to mandate free sex change surgeries.']), ('subject', ['abortion', 'energy,history,job-accomplishments', 'foreign-policy', 'health-care']), ('speaker', ['dwayne-bohac', 'scott-surovell', 'barack-obama', 'blog-posting']), ('job_title', ['State representative', 'State delegate', 'President', '']), ('state_info', ['Texas', 'Virginia', 'Illinois', '']), ('party_affiliation', ['republican', 'democrat', 'democrat', 'none']), ('barely_true_counts', tensor([[ 0],\n",
      "        [ 0],\n",
      "        [70],\n",
      "        [ 7]])), ('false_counts', tensor([[ 1],\n",
      "        [ 0],\n",
      "        [71],\n",
      "        [19]])), ('half_true_counts', tensor([[  0],\n",
      "        [  1],\n",
      "        [160],\n",
      "        [  3]])), ('mostly_true_counts', tensor([[  0],\n",
      "        [  1],\n",
      "        [163],\n",
      "        [  5]])), ('pants_onfire_counts', tensor([[ 0],\n",
      "        [ 0],\n",
      "        [ 9],\n",
      "        [44]])), ('context', ['a mailer', 'a floor speech.', 'Denver', 'a news release']), ('index', tensor([[0],\n",
      "        [1],\n",
      "        [2],\n",
      "        [3]]))])\n"
     ]
    }
   ],
   "source": [
    "texts = []\n",
    "labels = []\n",
    "for i in dataloader:\n",
    "    print(i)\n",
    "    break"
   ]
  },
  {
   "cell_type": "code",
   "execution_count": 13,
   "id": "506d3d64",
   "metadata": {},
   "outputs": [
    {
     "data": {
      "text/plain": [
       "['Says the Annies List political group supports third-trimester abortions on demand.',\n",
       " 'When did the decline of coal start? It started when natural gas took off that started to begin in (President George W.) Bushs administration.',\n",
       " 'Hillary Clinton agrees with John McCain \"by voting to give George Bush the benefit of the doubt on Iran.\"',\n",
       " 'Health care reform legislation is likely to mandate free sex change surgeries.']"
      ]
     },
     "execution_count": 13,
     "metadata": {},
     "output_type": "execute_result"
    }
   ],
   "source": [
    "i['statement']"
   ]
  },
  {
   "cell_type": "code",
   "execution_count": null,
   "id": "7457a0c9",
   "metadata": {},
   "outputs": [],
   "source": []
  }
 ],
 "metadata": {
  "kernelspec": {
   "display_name": "Python 3 (ipykernel)",
   "language": "python",
   "name": "python3"
  },
  "language_info": {
   "codemirror_mode": {
    "name": "ipython",
    "version": 3
   },
   "file_extension": ".py",
   "mimetype": "text/x-python",
   "name": "python",
   "nbconvert_exporter": "python",
   "pygments_lexer": "ipython3",
   "version": "3.11.5"
  }
 },
 "nbformat": 4,
 "nbformat_minor": 5
}
