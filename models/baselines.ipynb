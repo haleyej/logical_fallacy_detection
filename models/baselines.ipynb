{
 "cells": [
  {
   "cell_type": "markdown",
   "id": "5c65e56d",
   "metadata": {},
   "source": [
    "<h1>Baseline Models</h1>"
   ]
  },
  {
   "cell_type": "code",
   "execution_count": null,
   "id": "7b8afba1",
   "metadata": {},
   "outputs": [],
   "source": [
    "import os\n",
    "import pandas as pd\n",
    "import tensorflow\n",
    "\n",
    "from datasets import load_dataset\n",
    "from collections import Counter\n",
    "\n",
    "from sklearn.metrics import accuracy_score\n",
    "from sklearn.dummy import DummyClassifier\n",
    "from sklearn.naive_bayes import GaussianNB\n",
    "from sklearn.feature_extraction.text import CountVectorizer"
   ]
  },
  {
   "cell_type": "markdown",
   "id": "48f4cd0c",
   "metadata": {},
   "source": [
    "<h2>Load Data</h2>"
   ]
  },
  {
   "cell_type": "code",
   "execution_count": null,
   "id": "a93a9c1a",
   "metadata": {},
   "outputs": [],
   "source": [
    "dataset = load_dataset(\"liar\")"
   ]
  },
  {
   "cell_type": "code",
   "execution_count": null,
   "id": "b86492c7",
   "metadata": {},
   "outputs": [],
   "source": [
    "train = dataset['train']\n",
    "test = dataset['test']"
   ]
  },
  {
   "cell_type": "markdown",
   "id": "cb8e7383",
   "metadata": {},
   "source": [
    "<h2>Process Text</h2>"
   ]
  },
  {
   "cell_type": "code",
   "execution_count": null,
   "id": "f0680630",
   "metadata": {},
   "outputs": [],
   "source": [
    "train_labels = []\n",
    "train_texts = []\n",
    "\n",
    "for entry in train:\n",
    "    train_labels.append(entry['label'])\n",
    "    train_texts.append(entry['statement'])"
   ]
  },
  {
   "cell_type": "code",
   "execution_count": null,
   "id": "f7d18daa",
   "metadata": {},
   "outputs": [],
   "source": [
    "test_labels = []\n",
    "test_texts = []\n",
    "\n",
    "for entry in test:\n",
    "    test_labels.append(entry['label'])\n",
    "    test_texts.append(entry['statement'])"
   ]
  },
  {
   "cell_type": "code",
   "execution_count": null,
   "id": "a86c22af",
   "metadata": {},
   "outputs": [],
   "source": [
    "enc = CountVectorizer()\n",
    "train_vectors = enc.fit_transform(train_texts)\n",
    "test_vectors = enc.transform(test_texts)"
   ]
  },
  {
   "cell_type": "markdown",
   "id": "d64d38a3",
   "metadata": {},
   "source": [
    "See class distribution in training set"
   ]
  },
  {
   "cell_type": "code",
   "execution_count": null,
   "id": "0e855447",
   "metadata": {},
   "outputs": [],
   "source": [
    "Counter(train_labels)"
   ]
  },
  {
   "cell_type": "markdown",
   "id": "538cd245",
   "metadata": {},
   "source": [
    "<h2>Dummy Classifier</h2"
   ]
  },
  {
   "cell_type": "code",
   "execution_count": null,
   "id": "64a4ac44",
   "metadata": {},
   "outputs": [],
   "source": [
    "clf = DummyClassifier(strategy=\"most_frequent\")\n",
    "clf.fit(train_vectors.toarray(), train_labels)"
   ]
  },
  {
   "cell_type": "code",
   "execution_count": null,
   "id": "7ac8bdf3",
   "metadata": {},
   "outputs": [],
   "source": [
    "dummy_predictions = clf.predict(test_vectors.toarray())\n",
    "accuracy_score(dummy_predictions, test_labels)"
   ]
  },
  {
   "cell_type": "markdown",
   "id": "30a1b97b",
   "metadata": {},
   "source": [
    "<h2>Naive Bayes</h2>"
   ]
  },
  {
   "cell_type": "code",
   "execution_count": null,
   "id": "8f7e3c53",
   "metadata": {},
   "outputs": [],
   "source": [
    "gnb = GaussianNB()\n",
    "gnb.fit(train_vectors.toarray(), train_labels)"
   ]
  },
  {
   "cell_type": "code",
   "execution_count": null,
   "id": "d19c369c",
   "metadata": {},
   "outputs": [],
   "source": [
    "gnb_predictions = gnb.predict(test_vectors.toarray())\n",
    "accuracy_score(gnb_predictions, test_labels)"
   ]
  },
  {
   "cell_type": "code",
   "execution_count": null,
   "id": "0d50beb1",
   "metadata": {},
   "outputs": [],
   "source": []
  }
 ],
 "metadata": {
  "kernelspec": {
   "display_name": "Python 3 (ipykernel)",
   "language": "python",
   "name": "python3"
  },
  "language_info": {
   "codemirror_mode": {
    "name": "ipython",
    "version": 3
   },
   "file_extension": ".py",
   "mimetype": "text/x-python",
   "name": "python",
   "nbconvert_exporter": "python",
   "pygments_lexer": "ipython3",
   "version": "3.11.5"
  }
 },
 "nbformat": 4,
 "nbformat_minor": 5
}
