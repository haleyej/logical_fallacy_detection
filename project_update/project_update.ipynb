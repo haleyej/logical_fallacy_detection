{
 "cells": [
  {
   "cell_type": "markdown",
   "id": "e1dacc84",
   "metadata": {},
   "source": [
    "<h1>EECS 595 Final Project Update</h1>"
   ]
  },
  {
   "cell_type": "code",
   "execution_count": 116,
   "id": "427f10d0",
   "metadata": {},
   "outputs": [],
   "source": [
    "import os\n",
    "import json \n",
    "import regex as re\n",
    "import pandas as pd"
   ]
  },
  {
   "cell_type": "markdown",
   "id": "dba88764",
   "metadata": {},
   "source": [
    "<h2>Data Exploration</h2>"
   ]
  },
  {
   "cell_type": "markdown",
   "id": "881a0f9c",
   "metadata": {},
   "source": [
    "get rid of \"is an example of\"\n",
    "\n",
    "get rid of extra puncutation\n",
    "\n",
    "remove speaker roles"
   ]
  },
  {
   "cell_type": "code",
   "execution_count": 26,
   "id": "be1c03c2",
   "metadata": {},
   "outputs": [],
   "source": [
    "logical_fallacies = pd.read_csv(\"../data/logical_fallacies/edu_train.csv\")"
   ]
  },
  {
   "cell_type": "code",
   "execution_count": 181,
   "id": "abeff441",
   "metadata": {},
   "outputs": [
    {
     "data": {
      "text/plain": [
       "(1849, 12)"
      ]
     },
     "execution_count": 181,
     "metadata": {},
     "output_type": "execute_result"
    }
   ],
   "source": [
    "logical_fallacies.shape"
   ]
  },
  {
   "cell_type": "code",
   "execution_count": 111,
   "id": "a20aa6d4",
   "metadata": {},
   "outputs": [
    {
     "data": {
      "text/plain": [
       "array(['Board Member: “If this company is going to maximize its profits in the coming year, we need to fully exploit all of our available resources.”\\nHuman Resources Director: “Not so fast. Our employees are one of our most valued resources, and we have a strict policy against exploiting our workers.”'],\n",
       "      dtype=object)"
      ]
     },
     "execution_count": 111,
     "metadata": {},
     "output_type": "execute_result"
    }
   ],
   "source": [
    "logical_fallacies[logical_fallacies['updated_label'] == 'equivocation']['source_article'].sample()"
   ]
  },
  {
   "cell_type": "code",
   "execution_count": 100,
   "id": "12214312",
   "metadata": {},
   "outputs": [
    {
     "data": {
      "text/plain": [
       "updated_label\n",
       "faulty generalization     0.172526\n",
       "ad hominem                0.121687\n",
       "false causality           0.094105\n",
       "ad populum                0.085452\n",
       "circular reasoning        0.072472\n",
       "appeal to emotion         0.070308\n",
       "fallacy of logic          0.065441\n",
       "fallacy of relevance      0.061655\n",
       "intentional               0.060573\n",
       "false dilemma             0.059492\n",
       "fallacy of credibility    0.057869\n",
       "fallacy of extension      0.057328\n",
       "equivocation              0.021092\n",
       "Name: proportion, dtype: float64"
      ]
     },
     "execution_count": 100,
     "metadata": {},
     "output_type": "execute_result"
    }
   ],
   "source": [
    "logical_fallacies['updated_label'].value_counts(normalize = True)"
   ]
  },
  {
   "cell_type": "code",
   "execution_count": 166,
   "id": "d9009a32",
   "metadata": {},
   "outputs": [],
   "source": [
    "with open('../data/snli_1.0/snli_1.0_train.txt') as f:\n",
    "    lines = f.readlines()\n",
    "    snli = []\n",
    "    for line in lines:\n",
    "        snli.append(line.split('\\t'))"
   ]
  },
  {
   "cell_type": "code",
   "execution_count": 170,
   "id": "67875ba1",
   "metadata": {},
   "outputs": [
    {
     "data": {
      "text/plain": [
       "['contradiction',\n",
       " '( ( ( ( ( Six ( soccer players ) ) ( on field ) ) ( with player ) ) ( in ( ( red uniform ) ( in ( the ( air ( and ( ball airborne ) ) ) ) ) ) ) ) . )',\n",
       " '( ( Six people ) ( ( are ( playing basketball ) ) . ) )',\n",
       " '(ROOT (NP (NP (CD Six) (NN soccer) (NNS players)) (PP (IN on) (NP (NN field))) (PP (IN with) (NP (NN player))) (PP (IN in) (NP (NP (JJ red) (NN uniform)) (PP (IN in) (NP (DT the) (NN air) (CC and) (NN ball) (NN airborne))))) (. .)))',\n",
       " '(ROOT (S (NP (CD Six) (NNS people)) (VP (VBP are) (VP (VBG playing) (NP (NN basketball)))) (. .)))',\n",
       " 'Six soccer players on field with player in red uniform in the air and ball airborne.',\n",
       " 'Six people are playing basketball.',\n",
       " '3317073508.jpg#0',\n",
       " '3317073508.jpg#0r1c',\n",
       " 'contradiction',\n",
       " '',\n",
       " '',\n",
       " '',\n",
       " '\\n']"
      ]
     },
     "execution_count": 170,
     "metadata": {},
     "output_type": "execute_result"
    }
   ],
   "source": [
    "snli[1259]"
   ]
  },
  {
   "cell_type": "code",
   "execution_count": 178,
   "id": "7ecb7161",
   "metadata": {},
   "outputs": [],
   "source": [
    "class_dist = {}\n",
    "\n",
    "for line in snli[1:]:\n",
    "    label = line[0]\n",
    "    class_dist[label] = class_dist.get(label, 0) + 1\n",
    "    \n",
    "n = sum(class_dist.values())\n",
    "class_pct = {k:(v / n) for k,v in class_dist.items()}"
   ]
  },
  {
   "cell_type": "code",
   "execution_count": 180,
   "id": "fefe5fe1",
   "metadata": {},
   "outputs": [
    {
     "data": {
      "text/plain": [
       "({'neutral': 182764, 'contradiction': 183187, 'entailment': 183416, '-': 785},\n",
       " {'neutral': 0.3322063720571769,\n",
       "  'contradiction': 0.332975250476232,\n",
       "  'entailment': 0.3333914990766188,\n",
       "  '-': 0.0014268783899722259})"
      ]
     },
     "execution_count": 180,
     "metadata": {},
     "output_type": "execute_result"
    }
   ],
   "source": [
    "class_dist, class_pct"
   ]
  },
  {
   "cell_type": "markdown",
   "id": "0b6dbabf",
   "metadata": {},
   "source": [
    "<h2>Data Processing</h2>"
   ]
  },
  {
   "cell_type": "code",
   "execution_count": 115,
   "id": "92c143cf",
   "metadata": {},
   "outputs": [],
   "source": [
    "logical_fallacies['source_article'] = logical_fallacies['source_article'].str.lower().str.replace('is an example of', '')"
   ]
  },
  {
   "cell_type": "code",
   "execution_count": 150,
   "id": "db082993",
   "metadata": {},
   "outputs": [],
   "source": [
    "logical_fallacies['source_article'] = logical_fallacies['source_article'].apply(lambda s: re.sub(r\"^[A-za-z]+:\\s+\", \"\", s))"
   ]
  },
  {
   "cell_type": "code",
   "execution_count": 151,
   "id": "9779ef55",
   "metadata": {},
   "outputs": [],
   "source": [
    "logical_fallacies.to_csv(\"../data/logical_fallacies/educ_train_clean.csv\", index = False)"
   ]
  },
  {
   "cell_type": "code",
   "execution_count": null,
   "id": "5c194990",
   "metadata": {},
   "outputs": [],
   "source": []
  }
 ],
 "metadata": {
  "kernelspec": {
   "display_name": "Python 3 (ipykernel)",
   "language": "python",
   "name": "python3"
  },
  "language_info": {
   "codemirror_mode": {
    "name": "ipython",
    "version": 3
   },
   "file_extension": ".py",
   "mimetype": "text/x-python",
   "name": "python",
   "nbconvert_exporter": "python",
   "pygments_lexer": "ipython3",
   "version": "3.11.5"
  }
 },
 "nbformat": 4,
 "nbformat_minor": 5
}
